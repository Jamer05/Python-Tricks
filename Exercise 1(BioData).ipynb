{
 "cells": [
  {
   "cell_type": "code",
   "execution_count": 19,
   "id": "everyday-banks",
   "metadata": {
    "scrolled": true
   },
   "outputs": [
    {
     "name": "stdout",
     "output_type": "stream",
     "text": [
      "Enter name: Hemerson\n",
      "Enter your age:  23\n",
      "Enter your address: adss\n",
      "Enter City: asdad\n",
      "Enter your weight(kg): 23\n",
      "Enter your height(cm): 2323\n",
      "======================Student Details=====================\n",
      "\n",
      "Name: Hemerson \n",
      "Age: 23 \n",
      "Addres: adss \n",
      "City: asdad \n",
      "Weight: 23 \n",
      "Height: 0\n"
     ]
    }
   ],
   "source": [
    "class BioData:\n",
    "\n",
    "    def  __init__(self,name,age,address,city,weight,height):\n",
    "        height =0\n",
    "        self.name = name\n",
    "        self.age = age\n",
    "        self.address = address\n",
    "        self.city = city\n",
    "        self.weight = weight\n",
    "        self.height = height\n",
    "\n",
    "\n",
    "    def display_details(self):\n",
    "        print(\"======================Student Details=====================\")\n",
    "        detail = f'''\\nName: {self.name} \\nAge: {self.age} \\nAddres: {self.address} \\nCity: {self.city} \\nWeight: {self.weight} \\nHeight: {self.height}'''\n",
    "        print(detail)\n",
    "\n",
    "def input_details():\n",
    "    name = input(\"Enter name: \")\n",
    "    print(\"Enter your age: \",end =\" \")\n",
    "    age = int(input())#it is necessary to use integer in this line\n",
    "    address,city = input(\"Enter your address: \"), input(\"Enter City: \")\n",
    "    print(\"Enter your weight(kg): \",end =\"\")\n",
    "    weight=int(input())#it is necessary to use integer in this line\n",
    "    print(\"Enter your height(cm): \",end =\"\")\n",
    "    height = int(input())#it is necessary to use integer in this line\n",
    "    return BioData(name,age,address,city,weight,height)\n",
    "\n",
    "a = input_details()\n",
    "a.display_details()"
   ]
  },
  {
   "cell_type": "code",
   "execution_count": null,
   "id": "marine-trick",
   "metadata": {},
   "outputs": [],
   "source": []
  }
 ],
 "metadata": {
  "kernelspec": {
   "display_name": "Python 3",
   "language": "python",
   "name": "python3"
  },
  "language_info": {
   "codemirror_mode": {
    "name": "ipython",
    "version": 3
   },
   "file_extension": ".py",
   "mimetype": "text/x-python",
   "name": "python",
   "nbconvert_exporter": "python",
   "pygments_lexer": "ipython3",
   "version": "3.8.2"
  }
 },
 "nbformat": 4,
 "nbformat_minor": 5
}
