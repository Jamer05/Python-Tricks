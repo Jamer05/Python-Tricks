{
 "cells": [
  {
   "cell_type": "code",
   "execution_count": 8,
   "id": "encouraging-loading",
   "metadata": {},
   "outputs": [
    {
     "name": "stdout",
     "output_type": "stream",
     "text": [
      "Input the value of celcius: 16.6667\n",
      "The equivalent of celcius to fahrenheit: 62.00 and Réaumur: 13.33\n"
     ]
    }
   ],
   "source": [
    "cel = float(input(\"Input the value of celcius: \"))\n",
    "\n",
    "fah= (1.8 * cel)+32\n",
    "reau =  cel * 0.8\n",
    "print(f\"The equivalent of celcius to fahrenheit: {fah:.2f} and Réaumur: {reau:.2f}\")"
   ]
  },
  {
   "cell_type": "code",
   "execution_count": null,
   "id": "neutral-permit",
   "metadata": {},
   "outputs": [],
   "source": []
  }
 ],
 "metadata": {
  "kernelspec": {
   "display_name": "Python 3",
   "language": "python",
   "name": "python3"
  },
  "language_info": {
   "codemirror_mode": {
    "name": "ipython",
    "version": 3
   },
   "file_extension": ".py",
   "mimetype": "text/x-python",
   "name": "python",
   "nbconvert_exporter": "python",
   "pygments_lexer": "ipython3",
   "version": "3.8.2"
  }
 },
 "nbformat": 4,
 "nbformat_minor": 5
}
