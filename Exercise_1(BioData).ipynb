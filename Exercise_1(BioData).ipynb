{
  "nbformat": 4,
  "nbformat_minor": 5,
  "metadata": {
    "kernelspec": {
      "display_name": "Python 3",
      "language": "python",
      "name": "python3"
    },
    "language_info": {
      "codemirror_mode": {
        "name": "ipython",
        "version": 3
      },
      "file_extension": ".py",
      "mimetype": "text/x-python",
      "name": "python",
      "nbconvert_exporter": "python",
      "pygments_lexer": "ipython3",
      "version": "3.8.2"
    },
    "colab": {
      "name": "Exercise 1(BioData).ipynb",
      "provenance": [],
      "collapsed_sections": [],
      "toc_visible": true,
      "include_colab_link": true
    }
  },
  "cells": [
    {
      "cell_type": "markdown",
      "metadata": {
        "id": "view-in-github",
        "colab_type": "text"
      },
      "source": [
        "<a href=\"https://colab.research.google.com/github/Jamer05/Weekly-Task/blob/main/Exercise_1(BioData).ipynb\" target=\"_parent\"><img src=\"https://colab.research.google.com/assets/colab-badge.svg\" alt=\"Open In Colab\"/></a>"
      ]
    },
    {
      "cell_type": "code",
      "metadata": {
        "scrolled": true,
        "id": "everyday-banks"
      },
      "source": [
        "class BioData:\n",
        "\n",
        "    def  __init__(self,std_num,name,age,address,city,weight,height):\n",
        "        self.std_num = std_num\n",
        "        self.name = name\n",
        "        self.age = age\n",
        "        self.address = address\n",
        "        self.city = city\n",
        "        self.weight = weight\n",
        "        self.height = height\n",
        "\n",
        "\n",
        "    def display_details(self):\n",
        "        print(\"======================Student Details=====================\")\n",
        "        detail = f'''\\nStudent No.: {self.std_num}\\nName: {self.name} \\nAge: {self.age} \\nAddres: {self.address} \\nCity: {self.city} \\nWeight: {self.weight} \\nHeight: {self.height}'''\n",
        "        print(detail)\n",
        "\n",
        "def input_details():\n",
        "    std_num = input(\"Enter Student No.: \")\n",
        "    name = input(\"Enter name: \")\n",
        "    age = int(input(\"Enter your age: \"))#it is necessary to use integer in this line\n",
        "    address,city = input(\"Enter your address: \"), input(\"Enter City: \")\n",
        "    weight=int(input(\"Enter your weight(kg): \"))#it is necessary to use integer in this line\n",
        "    height = int(input(\"Enter your height(cm): \"))#it is necessary to use integer in this line\n",
        "    return BioData(std_num,name,age,address,city,weight,height)\n",
        "\n",
        "a = input_details()\n",
        "a.display_details()"
      ],
      "id": "everyday-banks",
      "execution_count": null,
      "outputs": []
    },
    {
      "cell_type": "markdown",
      "metadata": {
        "id": "A6kHZycKh33T"
      },
      "source": [
        "# New Section"
      ],
      "id": "A6kHZycKh33T"
    }
  ]
}