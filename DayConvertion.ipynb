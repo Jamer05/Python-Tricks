{
 "cells": [
  {
   "cell_type": "code",
   "execution_count": null,
   "id": "architectural-affiliation",
   "metadata": {},
   "outputs": [],
   "source": [
    "day = int(input(\"Enter the number of days: \"))\n",
    "\n",
    "hour,min,sec = day * 24, 24 * 60, 60 * 60\n",
    "\n",
    "print(f\"In one day there is {hour} hour, {min} minute, {sec} sec\")"
   ]
  }
 ],
 "metadata": {
  "kernelspec": {
   "display_name": "Python 3",
   "language": "python",
   "name": "python3"
  },
  "language_info": {
   "codemirror_mode": {
    "name": "ipython",
    "version": 3
   },
   "file_extension": ".py",
   "mimetype": "text/x-python",
   "name": "python",
   "nbconvert_exporter": "python",
   "pygments_lexer": "ipython3",
   "version": "3.8.2"
  }
 },
 "nbformat": 4,
 "nbformat_minor": 5
}
