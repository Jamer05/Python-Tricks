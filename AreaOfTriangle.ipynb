{
 "cells": [
  {
   "cell_type": "code",
   "execution_count": 5,
   "id": "varied-camping",
   "metadata": {},
   "outputs": [
    {
     "name": "stdout",
     "output_type": "stream",
     "text": [
      "Enter Base: 6\n",
      "Enter Heigh: 8\n",
      "Area of a triagle is: 24.00\n"
     ]
    }
   ],
   "source": [
    "base = float(input(\"Enter Base: \"))\n",
    "height =float(input(\"Enter Heigh: \"))\n",
    "\n",
    "area = base * height* 0.5\n",
    "\n",
    "print(\"Area of a triagle is: {:.2f}\".format(area))"
   ]
  },
  {
   "cell_type": "code",
   "execution_count": null,
   "id": "tired-training",
   "metadata": {},
   "outputs": [],
   "source": []
  }
 ],
 "metadata": {
  "kernelspec": {
   "display_name": "Python 3",
   "language": "python",
   "name": "python3"
  },
  "language_info": {
   "codemirror_mode": {
    "name": "ipython",
    "version": 3
   },
   "file_extension": ".py",
   "mimetype": "text/x-python",
   "name": "python",
   "nbconvert_exporter": "python",
   "pygments_lexer": "ipython3",
   "version": "3.8.2"
  }
 },
 "nbformat": 4,
 "nbformat_minor": 5
}
